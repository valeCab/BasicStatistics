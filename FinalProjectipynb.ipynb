{
  "nbformat": 4,
  "nbformat_minor": 0,
  "metadata": {
    "colab": {
      "provenance": [],
      "authorship_tag": "ABX9TyPXnny1jvhrLCzFvFS+iHrw",
      "include_colab_link": true
    },
    "kernelspec": {
      "name": "python3",
      "display_name": "Python 3"
    },
    "language_info": {
      "name": "python"
    }
  },
  "cells": [
    {
      "cell_type": "markdown",
      "metadata": {
        "id": "view-in-github",
        "colab_type": "text"
      },
      "source": [
        "<a href=\"https://colab.research.google.com/github/valeCab/BasicStatistics/blob/main/FinalProjectipynb.ipynb\" target=\"_parent\"><img src=\"https://colab.research.google.com/assets/colab-badge.svg\" alt=\"Open In Colab\"/></a>"
      ]
    },
    {
      "cell_type": "code",
      "source": [
        "from google.colab import drive\n",
        "import sys, pandas\n",
        "drive.mount('/content/drive')\n",
        "sys.path.append('/content/drive/MyDrive/Colab Notebooks')"
      ],
      "metadata": {
        "colab": {
          "base_uri": "https://localhost:8080/"
        },
        "id": "A1zYl87IThNr",
        "outputId": "3ae99af3-561b-42e7-a832-3d6e9ab9398e"
      },
      "execution_count": 1,
      "outputs": [
        {
          "output_type": "stream",
          "name": "stdout",
          "text": [
            "Mounted at /content/drive\n"
          ]
        }
      ]
    },
    {
      "cell_type": "code",
      "source": [
        "import pandas as pd\n",
        "import seaborn as sns"
      ],
      "metadata": {
        "id": "BgL8ei5RUELF",
        "collapsed": true
      },
      "execution_count": 45,
      "outputs": []
    },
    {
      "cell_type": "code",
      "source": [
        "df_health = pd.read_csv('/content/drive/MyDrive/Colab Notebooks/HealthExpenditure.csv', skiprows=3)\n",
        "df_life = pd.read_csv('/content/drive/MyDrive/Colab Notebooks/LifeExpectancy.csv', skiprows=3)\n",
        "\n",
        "print(\"Health Expenditure Data:\")\n",
        "print(df_health.head())\n",
        "\n",
        "print(\"\\nLife Expectancy Data:\")\n",
        "print(df_life.head())"
      ],
      "metadata": {
        "colab": {
          "base_uri": "https://localhost:8080/"
        },
        "id": "_wNiJK_oO1Hq",
        "outputId": "0948dce3-c4af-47bb-8706-1aa38e83d668"
      },
      "execution_count": 46,
      "outputs": [
        {
          "output_type": "stream",
          "name": "stdout",
          "text": [
            "Health Expenditure Data:\n",
            "                  Country Name Country Code  \\\n",
            "0                        Aruba          ABW   \n",
            "1  Africa Eastern and Southern          AFE   \n",
            "2                  Afghanistan          AFG   \n",
            "3   Africa Western and Central          AFW   \n",
            "4                       Angola          AGO   \n",
            "\n",
            "                          Indicator Name     Indicator Code  1960  1961  1962  \\\n",
            "0  Current health expenditure (% of GDP)  SH.XPD.CHEX.GD.ZS   NaN   NaN   NaN   \n",
            "1  Current health expenditure (% of GDP)  SH.XPD.CHEX.GD.ZS   NaN   NaN   NaN   \n",
            "2  Current health expenditure (% of GDP)  SH.XPD.CHEX.GD.ZS   NaN   NaN   NaN   \n",
            "3  Current health expenditure (% of GDP)  SH.XPD.CHEX.GD.ZS   NaN   NaN   NaN   \n",
            "4  Current health expenditure (% of GDP)  SH.XPD.CHEX.GD.ZS   NaN   NaN   NaN   \n",
            "\n",
            "   1963  1964  1965  ...       2015       2016       2017       2018  \\\n",
            "0   NaN   NaN   NaN  ...        NaN        NaN        NaN        NaN   \n",
            "1   NaN   NaN   NaN  ...   5.997956   6.097888   5.968235   5.809327   \n",
            "2   NaN   NaN   NaN  ...  10.105348  11.818590  12.620817  14.208419   \n",
            "3   NaN   NaN   NaN  ...   3.855754   3.834578   3.834390   3.444878   \n",
            "4   NaN   NaN   NaN  ...   2.605795   2.713150   2.793838   2.588796   \n",
            "\n",
            "        2019       2020       2021  2022  2023  Unnamed: 68  \n",
            "0        NaN        NaN        NaN   NaN   NaN          NaN  \n",
            "1   5.820168   5.863514   5.870145   NaN   NaN          NaN  \n",
            "2  14.831320  15.533614  21.827950   NaN   NaN          NaN  \n",
            "3   3.434560   3.859819   4.157479   NaN   NaN          NaN  \n",
            "4   2.475180   3.220706   2.960106   NaN   NaN          NaN  \n",
            "\n",
            "[5 rows x 69 columns]\n",
            "\n",
            "Life Expectancy Data:\n",
            "                  Country Name Country Code  \\\n",
            "0                        Aruba          ABW   \n",
            "1  Africa Eastern and Southern          AFE   \n",
            "2                  Afghanistan          AFG   \n",
            "3   Africa Western and Central          AFW   \n",
            "4                       Angola          AGO   \n",
            "\n",
            "                            Indicator Name  Indicator Code       1960  \\\n",
            "0  Life expectancy at birth, total (years)  SP.DYN.LE00.IN  64.152000   \n",
            "1  Life expectancy at birth, total (years)  SP.DYN.LE00.IN  44.098835   \n",
            "2  Life expectancy at birth, total (years)  SP.DYN.LE00.IN  32.535000   \n",
            "3  Life expectancy at birth, total (years)  SP.DYN.LE00.IN  37.846145   \n",
            "4  Life expectancy at birth, total (years)  SP.DYN.LE00.IN  38.211000   \n",
            "\n",
            "        1961       1962       1963       1964      1965  ...       2015  \\\n",
            "0  64.537000  64.752000  65.132000  65.294000  65.50200  ...  75.683000   \n",
            "1  44.401083  44.768037  44.925690  45.498933  45.51282  ...  61.856856   \n",
            "2  33.068000  33.547000  34.016000  34.494000  34.95300  ...  62.659000   \n",
            "3  38.165478  38.735788  39.063273  39.333621  39.61488  ...  56.135275   \n",
            "4  37.267000  37.539000  37.824000  38.131000  38.49500  ...  60.655000   \n",
            "\n",
            "        2016       2017       2018       2019       2020       2021  \\\n",
            "0  75.617000  75.903000  76.072000  76.248000  75.723000  74.626000   \n",
            "1  62.444641  62.924810  63.367037  63.754752  63.309794  62.449093   \n",
            "2  63.136000  63.016000  63.081000  63.565000  62.575000  61.982000   \n",
            "3  56.518086  56.826634  57.129707  57.500295  57.180671  56.946475   \n",
            "4  61.092000  61.680000  62.144000  62.448000  62.261000  61.643000   \n",
            "\n",
            "        2022  2023  Unnamed: 68  \n",
            "0  74.992000   NaN          NaN  \n",
            "1  62.888463   NaN          NaN  \n",
            "2  62.879000   NaN          NaN  \n",
            "3  57.589106   NaN          NaN  \n",
            "4  61.929000   NaN          NaN  \n",
            "\n",
            "[5 rows x 69 columns]\n"
          ]
        }
      ]
    },
    {
      "cell_type": "code",
      "source": [
        "# Data from 2015-2021\n",
        "years = [str(y) for y in range(2015, 2022)]\n",
        "columns = ['Country Name'] + years\n",
        "\n",
        "df_health = df_health[columns]\n",
        "df_life = df_life[columns]"
      ],
      "metadata": {
        "id": "KbdKhiJ8Q4vI"
      },
      "execution_count": 47,
      "outputs": []
    },
    {
      "cell_type": "code",
      "source": [
        "# Data from US and Bangladesh\n",
        "df_health_us = df_health[df_health['Country Name'] == 'United States']\n",
        "df_health_bd = df_health[df_life['Country Name'] == 'Bangladesh']\n",
        "\n",
        "df_life_us = df_life[df_life['Country Name'] == 'United States']\n",
        "df_life_bd = df_life[df_life['Country Name'] == 'Bangladesh']\n",
        "\n",
        "df_health_us = df_health_us.drop(columns=['Country Name'])\n",
        "df_health_bd = df_health_bd.drop(columns=['Country Name'])\n",
        "\n",
        "df_life_us = df_life_us.drop(columns=['Country Name'])\n",
        "df_life_bd = df_life_bd.drop(columns=['Country Name'])\n",
        "\n",
        "print(\"Health Expenditure Data for United States:\")\n",
        "print(df_health_us.head())\n",
        "\n",
        "print(\"\\nLife Expectancy Data for United States:\")\n",
        "print(df_life_us.head())\n",
        "\n",
        "print(\"\\nHealth Expenditure Data for Bangladesh:\")\n",
        "print(df_health_bd.head())\n",
        "\n",
        "print(\"\\nLife Expectancy Data for Bangladesh:\")\n",
        "print(df_life_bd.head())"
      ],
      "metadata": {
        "id": "P2zPc0OBQnRE",
        "colab": {
          "base_uri": "https://localhost:8080/"
        },
        "outputId": "acee97af-e5bf-4336-cfe0-0e87d92ce040"
      },
      "execution_count": 48,
      "outputs": [
        {
          "output_type": "stream",
          "name": "stdout",
          "text": [
            "Health Expenditure Data for United States:\n",
            "          2015       2016       2017       2018       2019      2020  \\\n",
            "251  16.490568  16.802158  16.767502  16.629644  16.665806  18.75622   \n",
            "\n",
            "          2021  \n",
            "251  17.362568  \n",
            "\n",
            "Life Expectancy Data for United States:\n",
            "          2015       2016       2017       2018       2019       2020  \\\n",
            "251  78.690244  78.539024  78.539024  78.639024  78.787805  76.980488   \n",
            "\n",
            "          2021  \n",
            "251  76.329268  \n",
            "\n",
            "Health Expenditure Data for Bangladesh:\n",
            "        2015      2016      2017      2018      2019      2020     2021\n",
            "20  2.272177  2.389382  2.367202  2.316222  2.257622  2.270639  2.36493\n",
            "\n",
            "Life Expectancy Data for Bangladesh:\n",
            "      2015   2016    2017    2018    2019    2020    2021\n",
            "20  70.491  71.09  71.788  72.567  72.806  71.968  72.381\n"
          ]
        }
      ]
    },
    {
      "cell_type": "code",
      "source": [
        "# Basic Statistics\n",
        "\n",
        "years = [str(y) for y in range(2015, 2022)]\n",
        "\n",
        "us_data = {\n",
        "    'Country': ['United States'] * len(years),\n",
        "    'Year': years,\n",
        "    'Health Expenditure (% of GDP)': df_health_us[years].values.flatten(),\n",
        "    'Life Expectancy (Years)': df_life_us[years].values.flatten()\n",
        "}\n",
        "\n",
        "bd_data = {\n",
        "    'Country': ['Bangladesh'] * len(years),\n",
        "    'Year': years,\n",
        "    'Health Expenditure (% of GDP)': df_health_bd[years].values.flatten(),\n",
        "    'Life Expectancy (Years)': df_life_bd[years].values.flatten()\n",
        "}\n",
        "\n",
        "\n",
        "df_combined = pd.concat([pd.DataFrame(us_data), pd.DataFrame(bd_data)], ignore_index=True)\n",
        "\n",
        "df_combined['Health Expenditure (% of GDP)'] = df_combined['Health Expenditure (% of GDP)'].astype(float)\n",
        "df_combined['Life Expectancy (Years)'] = df_combined['Life Expectancy (Years)'].astype(float)\n",
        "print(\"\\nBasic Statistics:\")\n",
        "df_combined.describe()"
      ],
      "metadata": {
        "colab": {
          "base_uri": "https://localhost:8080/",
          "height": 336
        },
        "id": "i4jvV3IiQDcg",
        "outputId": "d68b84e8-4300-4586-fa20-ac0ca2dabbc0"
      },
      "execution_count": 49,
      "outputs": [
        {
          "output_type": "stream",
          "name": "stdout",
          "text": [
            "\n",
            "Basic Statistics:\n"
          ]
        },
        {
          "output_type": "execute_result",
          "data": {
            "text/plain": [
              "       Health Expenditure (% of GDP)  Life Expectancy (Years)\n",
              "count                      14.000000                14.000000\n",
              "mean                        9.693760                74.971134\n",
              "std                         7.671473                 3.335777\n",
              "min                         2.257622                70.491000\n",
              "25%                         2.328399                72.071250\n",
              "50%                         9.439975                74.567634\n",
              "75%                        16.742078                78.539024\n",
              "max                        18.756220                78.787805"
            ],
            "text/html": [
              "\n",
              "  <div id=\"df-7b099f98-5ede-42a9-b961-37fedb8126a5\" class=\"colab-df-container\">\n",
              "    <div>\n",
              "<style scoped>\n",
              "    .dataframe tbody tr th:only-of-type {\n",
              "        vertical-align: middle;\n",
              "    }\n",
              "\n",
              "    .dataframe tbody tr th {\n",
              "        vertical-align: top;\n",
              "    }\n",
              "\n",
              "    .dataframe thead th {\n",
              "        text-align: right;\n",
              "    }\n",
              "</style>\n",
              "<table border=\"1\" class=\"dataframe\">\n",
              "  <thead>\n",
              "    <tr style=\"text-align: right;\">\n",
              "      <th></th>\n",
              "      <th>Health Expenditure (% of GDP)</th>\n",
              "      <th>Life Expectancy (Years)</th>\n",
              "    </tr>\n",
              "  </thead>\n",
              "  <tbody>\n",
              "    <tr>\n",
              "      <th>count</th>\n",
              "      <td>14.000000</td>\n",
              "      <td>14.000000</td>\n",
              "    </tr>\n",
              "    <tr>\n",
              "      <th>mean</th>\n",
              "      <td>9.693760</td>\n",
              "      <td>74.971134</td>\n",
              "    </tr>\n",
              "    <tr>\n",
              "      <th>std</th>\n",
              "      <td>7.671473</td>\n",
              "      <td>3.335777</td>\n",
              "    </tr>\n",
              "    <tr>\n",
              "      <th>min</th>\n",
              "      <td>2.257622</td>\n",
              "      <td>70.491000</td>\n",
              "    </tr>\n",
              "    <tr>\n",
              "      <th>25%</th>\n",
              "      <td>2.328399</td>\n",
              "      <td>72.071250</td>\n",
              "    </tr>\n",
              "    <tr>\n",
              "      <th>50%</th>\n",
              "      <td>9.439975</td>\n",
              "      <td>74.567634</td>\n",
              "    </tr>\n",
              "    <tr>\n",
              "      <th>75%</th>\n",
              "      <td>16.742078</td>\n",
              "      <td>78.539024</td>\n",
              "    </tr>\n",
              "    <tr>\n",
              "      <th>max</th>\n",
              "      <td>18.756220</td>\n",
              "      <td>78.787805</td>\n",
              "    </tr>\n",
              "  </tbody>\n",
              "</table>\n",
              "</div>\n",
              "    <div class=\"colab-df-buttons\">\n",
              "\n",
              "  <div class=\"colab-df-container\">\n",
              "    <button class=\"colab-df-convert\" onclick=\"convertToInteractive('df-7b099f98-5ede-42a9-b961-37fedb8126a5')\"\n",
              "            title=\"Convert this dataframe to an interactive table.\"\n",
              "            style=\"display:none;\">\n",
              "\n",
              "  <svg xmlns=\"http://www.w3.org/2000/svg\" height=\"24px\" viewBox=\"0 -960 960 960\">\n",
              "    <path d=\"M120-120v-720h720v720H120Zm60-500h600v-160H180v160Zm220 220h160v-160H400v160Zm0 220h160v-160H400v160ZM180-400h160v-160H180v160Zm440 0h160v-160H620v160ZM180-180h160v-160H180v160Zm440 0h160v-160H620v160Z\"/>\n",
              "  </svg>\n",
              "    </button>\n",
              "\n",
              "  <style>\n",
              "    .colab-df-container {\n",
              "      display:flex;\n",
              "      gap: 12px;\n",
              "    }\n",
              "\n",
              "    .colab-df-convert {\n",
              "      background-color: #E8F0FE;\n",
              "      border: none;\n",
              "      border-radius: 50%;\n",
              "      cursor: pointer;\n",
              "      display: none;\n",
              "      fill: #1967D2;\n",
              "      height: 32px;\n",
              "      padding: 0 0 0 0;\n",
              "      width: 32px;\n",
              "    }\n",
              "\n",
              "    .colab-df-convert:hover {\n",
              "      background-color: #E2EBFA;\n",
              "      box-shadow: 0px 1px 2px rgba(60, 64, 67, 0.3), 0px 1px 3px 1px rgba(60, 64, 67, 0.15);\n",
              "      fill: #174EA6;\n",
              "    }\n",
              "\n",
              "    .colab-df-buttons div {\n",
              "      margin-bottom: 4px;\n",
              "    }\n",
              "\n",
              "    [theme=dark] .colab-df-convert {\n",
              "      background-color: #3B4455;\n",
              "      fill: #D2E3FC;\n",
              "    }\n",
              "\n",
              "    [theme=dark] .colab-df-convert:hover {\n",
              "      background-color: #434B5C;\n",
              "      box-shadow: 0px 1px 3px 1px rgba(0, 0, 0, 0.15);\n",
              "      filter: drop-shadow(0px 1px 2px rgba(0, 0, 0, 0.3));\n",
              "      fill: #FFFFFF;\n",
              "    }\n",
              "  </style>\n",
              "\n",
              "    <script>\n",
              "      const buttonEl =\n",
              "        document.querySelector('#df-7b099f98-5ede-42a9-b961-37fedb8126a5 button.colab-df-convert');\n",
              "      buttonEl.style.display =\n",
              "        google.colab.kernel.accessAllowed ? 'block' : 'none';\n",
              "\n",
              "      async function convertToInteractive(key) {\n",
              "        const element = document.querySelector('#df-7b099f98-5ede-42a9-b961-37fedb8126a5');\n",
              "        const dataTable =\n",
              "          await google.colab.kernel.invokeFunction('convertToInteractive',\n",
              "                                                    [key], {});\n",
              "        if (!dataTable) return;\n",
              "\n",
              "        const docLinkHtml = 'Like what you see? Visit the ' +\n",
              "          '<a target=\"_blank\" href=https://colab.research.google.com/notebooks/data_table.ipynb>data table notebook</a>'\n",
              "          + ' to learn more about interactive tables.';\n",
              "        element.innerHTML = '';\n",
              "        dataTable['output_type'] = 'display_data';\n",
              "        await google.colab.output.renderOutput(dataTable, element);\n",
              "        const docLink = document.createElement('div');\n",
              "        docLink.innerHTML = docLinkHtml;\n",
              "        element.appendChild(docLink);\n",
              "      }\n",
              "    </script>\n",
              "  </div>\n",
              "\n",
              "\n",
              "<div id=\"df-23db6476-33b7-4ab4-af27-e516564a5a7c\">\n",
              "  <button class=\"colab-df-quickchart\" onclick=\"quickchart('df-23db6476-33b7-4ab4-af27-e516564a5a7c')\"\n",
              "            title=\"Suggest charts\"\n",
              "            style=\"display:none;\">\n",
              "\n",
              "<svg xmlns=\"http://www.w3.org/2000/svg\" height=\"24px\"viewBox=\"0 0 24 24\"\n",
              "     width=\"24px\">\n",
              "    <g>\n",
              "        <path d=\"M19 3H5c-1.1 0-2 .9-2 2v14c0 1.1.9 2 2 2h14c1.1 0 2-.9 2-2V5c0-1.1-.9-2-2-2zM9 17H7v-7h2v7zm4 0h-2V7h2v10zm4 0h-2v-4h2v4z\"/>\n",
              "    </g>\n",
              "</svg>\n",
              "  </button>\n",
              "\n",
              "<style>\n",
              "  .colab-df-quickchart {\n",
              "      --bg-color: #E8F0FE;\n",
              "      --fill-color: #1967D2;\n",
              "      --hover-bg-color: #E2EBFA;\n",
              "      --hover-fill-color: #174EA6;\n",
              "      --disabled-fill-color: #AAA;\n",
              "      --disabled-bg-color: #DDD;\n",
              "  }\n",
              "\n",
              "  [theme=dark] .colab-df-quickchart {\n",
              "      --bg-color: #3B4455;\n",
              "      --fill-color: #D2E3FC;\n",
              "      --hover-bg-color: #434B5C;\n",
              "      --hover-fill-color: #FFFFFF;\n",
              "      --disabled-bg-color: #3B4455;\n",
              "      --disabled-fill-color: #666;\n",
              "  }\n",
              "\n",
              "  .colab-df-quickchart {\n",
              "    background-color: var(--bg-color);\n",
              "    border: none;\n",
              "    border-radius: 50%;\n",
              "    cursor: pointer;\n",
              "    display: none;\n",
              "    fill: var(--fill-color);\n",
              "    height: 32px;\n",
              "    padding: 0;\n",
              "    width: 32px;\n",
              "  }\n",
              "\n",
              "  .colab-df-quickchart:hover {\n",
              "    background-color: var(--hover-bg-color);\n",
              "    box-shadow: 0 1px 2px rgba(60, 64, 67, 0.3), 0 1px 3px 1px rgba(60, 64, 67, 0.15);\n",
              "    fill: var(--button-hover-fill-color);\n",
              "  }\n",
              "\n",
              "  .colab-df-quickchart-complete:disabled,\n",
              "  .colab-df-quickchart-complete:disabled:hover {\n",
              "    background-color: var(--disabled-bg-color);\n",
              "    fill: var(--disabled-fill-color);\n",
              "    box-shadow: none;\n",
              "  }\n",
              "\n",
              "  .colab-df-spinner {\n",
              "    border: 2px solid var(--fill-color);\n",
              "    border-color: transparent;\n",
              "    border-bottom-color: var(--fill-color);\n",
              "    animation:\n",
              "      spin 1s steps(1) infinite;\n",
              "  }\n",
              "\n",
              "  @keyframes spin {\n",
              "    0% {\n",
              "      border-color: transparent;\n",
              "      border-bottom-color: var(--fill-color);\n",
              "      border-left-color: var(--fill-color);\n",
              "    }\n",
              "    20% {\n",
              "      border-color: transparent;\n",
              "      border-left-color: var(--fill-color);\n",
              "      border-top-color: var(--fill-color);\n",
              "    }\n",
              "    30% {\n",
              "      border-color: transparent;\n",
              "      border-left-color: var(--fill-color);\n",
              "      border-top-color: var(--fill-color);\n",
              "      border-right-color: var(--fill-color);\n",
              "    }\n",
              "    40% {\n",
              "      border-color: transparent;\n",
              "      border-right-color: var(--fill-color);\n",
              "      border-top-color: var(--fill-color);\n",
              "    }\n",
              "    60% {\n",
              "      border-color: transparent;\n",
              "      border-right-color: var(--fill-color);\n",
              "    }\n",
              "    80% {\n",
              "      border-color: transparent;\n",
              "      border-right-color: var(--fill-color);\n",
              "      border-bottom-color: var(--fill-color);\n",
              "    }\n",
              "    90% {\n",
              "      border-color: transparent;\n",
              "      border-bottom-color: var(--fill-color);\n",
              "    }\n",
              "  }\n",
              "</style>\n",
              "\n",
              "  <script>\n",
              "    async function quickchart(key) {\n",
              "      const quickchartButtonEl =\n",
              "        document.querySelector('#' + key + ' button');\n",
              "      quickchartButtonEl.disabled = true;  // To prevent multiple clicks.\n",
              "      quickchartButtonEl.classList.add('colab-df-spinner');\n",
              "      try {\n",
              "        const charts = await google.colab.kernel.invokeFunction(\n",
              "            'suggestCharts', [key], {});\n",
              "      } catch (error) {\n",
              "        console.error('Error during call to suggestCharts:', error);\n",
              "      }\n",
              "      quickchartButtonEl.classList.remove('colab-df-spinner');\n",
              "      quickchartButtonEl.classList.add('colab-df-quickchart-complete');\n",
              "    }\n",
              "    (() => {\n",
              "      let quickchartButtonEl =\n",
              "        document.querySelector('#df-23db6476-33b7-4ab4-af27-e516564a5a7c button');\n",
              "      quickchartButtonEl.style.display =\n",
              "        google.colab.kernel.accessAllowed ? 'block' : 'none';\n",
              "    })();\n",
              "  </script>\n",
              "</div>\n",
              "\n",
              "    </div>\n",
              "  </div>\n"
            ],
            "application/vnd.google.colaboratory.intrinsic+json": {
              "type": "dataframe",
              "summary": "{\n  \"name\": \"df_combined\",\n  \"rows\": 8,\n  \"fields\": [\n    {\n      \"column\": \"Health Expenditure (% of GDP)\",\n      \"properties\": {\n        \"dtype\": \"number\",\n        \"std\": 6.125536819312548,\n        \"min\": 2.25762248,\n        \"max\": 18.75621986,\n        \"num_unique_values\": 8,\n        \"samples\": [\n          9.693760105,\n          9.43997514,\n          14.0\n        ],\n        \"semantic_type\": \"\",\n        \"description\": \"\"\n      }\n    },\n    {\n      \"column\": \"Life Expectancy (Years)\",\n      \"properties\": {\n        \"dtype\": \"number\",\n        \"std\": 30.92326442746459,\n        \"min\": 3.335777010740811,\n        \"max\": 78.7878048780488,\n        \"num_unique_values\": 8,\n        \"samples\": [\n          74.97113414634147,\n          74.56763414634145,\n          14.0\n        ],\n        \"semantic_type\": \"\",\n        \"description\": \"\"\n      }\n    }\n  ]\n}"
            }
          },
          "metadata": {},
          "execution_count": 49
        }
      ]
    },
    {
      "cell_type": "code",
      "source": [
        "# Missing values\n",
        "print(\"Missing Values in Health Expenditure:\")\n",
        "print(df_health.isnull().sum())\n",
        "\n",
        "print(\"\\nMissing Values in Life Expectancy:\")\n",
        "print(df_life.isnull().sum())"
      ],
      "metadata": {
        "colab": {
          "base_uri": "https://localhost:8080/"
        },
        "id": "JrvAZg8AWgYR",
        "outputId": "6613089b-4506-41a5-bde2-61e82f84327d"
      },
      "execution_count": 50,
      "outputs": [
        {
          "output_type": "stream",
          "name": "stdout",
          "text": [
            "Missing Values in Health Expenditure:\n",
            "Country Name     0\n",
            "2015            32\n",
            "2016            33\n",
            "2017            32\n",
            "2018            31\n",
            "2019            31\n",
            "2020            31\n",
            "2021            31\n",
            "dtype: int64\n",
            "\n",
            "Missing Values in Life Expectancy:\n",
            "Country Name    0\n",
            "2015            8\n",
            "2016            8\n",
            "2017            8\n",
            "2018            9\n",
            "2019            9\n",
            "2020            9\n",
            "2021            8\n",
            "dtype: int64\n"
          ]
        }
      ]
    },
    {
      "cell_type": "code",
      "source": [
        "# Skewness and Kurtosis\n",
        "from scipy.stats import skew, kurtosis\n",
        "\n",
        "df1 = df_combined['Health Expenditure (% of GDP)']\n",
        "df2 = df_combined['Life Expectancy (Years)']\n",
        "\n",
        "print(f\"Skewness of Health Expenditure: {skew(df1)}\")\n",
        "print(f\"Kurtosis of Health Expenditure: {kurtosis(df1)}\")\n",
        "\n",
        "print(f\"\\nSkewness of Life Expectancy: {skew(df2)}\")\n",
        "print(f\"Kurtosis of Life Expectancy: {kurtosis(df2)}\")"
      ],
      "metadata": {
        "colab": {
          "base_uri": "https://localhost:8080/"
        },
        "id": "BcIyArHTXTpa",
        "outputId": "9c6c69fa-6e08-4361-d361-668dea7e03b8"
      },
      "execution_count": 51,
      "outputs": [
        {
          "output_type": "stream",
          "name": "stdout",
          "text": [
            "Skewness of Health Expenditure: 0.015523495121309419\n",
            "Kurtosis of Health Expenditure: -1.9769013619165305\n",
            "\n",
            "Skewness of Life Expectancy: 0.018699573253498938\n",
            "Kurtosis of Life Expectancy: -1.7673080328176227\n"
          ]
        }
      ]
    },
    {
      "cell_type": "code",
      "source": [
        "# Histogram\n",
        "import seaborn as sns\n",
        "import matplotlib.pyplot as plt\n",
        "sns.histplot(data=df_combined, x=\"Life Expectancy (Years)\", hue=\"Country\", bins=6, kde=True)\n",
        "plt.xlabel(\"Life Expectancy (Years)\")\n",
        "plt.ylabel(\"Frequency\")\n",
        "plt.title(\"Histogram of Life Expectancy (2015-2021)\")\n",
        "plt.show()"
      ],
      "metadata": {
        "colab": {
          "base_uri": "https://localhost:8080/",
          "height": 472
        },
        "outputId": "7981f953-5b92-473a-c57d-a74ef4923dcf",
        "id": "qw8VWliCZgPC"
      },
      "execution_count": 52,
      "outputs": [
        {
          "output_type": "display_data",
          "data": {
            "text/plain": [
              "<Figure size 640x480 with 1 Axes>"
            ],
            "image/png": "[encoded data removed]"
          },
          "metadata": {}
        }
      ]
    },
    {
      "cell_type": "code",
      "source": [
        "# Multiple Box Plots\n",
        "import seaborn as sns, matplotlib.pyplot as plt\n",
        "plt.figure(figsize=(6,5))\n",
        "sns.boxplot(x='Country', y='Health Expenditure (% of GDP)', data=df_combined)\n",
        "plt.xlabel('Country')\n",
        "plt.ylabel('Health Expenditure (% of GDP)')\n",
        "plt.title('Health Expenditure by Country (2015-2021)')\n",
        "plt.show()\n",
        "# there is little to no variation, the data points are very close"
      ],
      "metadata": {
        "colab": {
          "base_uri": "https://localhost:8080/",
          "height": 487
        },
        "id": "PLvrFZ-1ebGg",
        "outputId": "1f3cd6dd-4b75-4c4b-b064-f42a75a72bc3"
      },
      "execution_count": 53,
      "outputs": [
        {
          "output_type": "display_data",
          "data": {
            "text/plain": [
              "<Figure size 600x500 with 1 Axes>"
            ],
            "image/png": "[encoded data removed]"
          },
          "metadata": {}
        }
      ]
    },
    {
      "cell_type": "code",
      "source": [
        "# Statistics\n",
        "df_combined.describe()"
      ],
      "metadata": {
        "colab": {
          "base_uri": "https://localhost:8080/",
          "height": 300
        },
        "id": "1L-rtP3SLSPu",
        "outputId": "ea347e43-0aeb-4faa-e93a-c8d30953ead8"
      },
      "execution_count": 54,
      "outputs": [
        {
          "output_type": "execute_result",
          "data": {
            "text/plain": [
              "       Health Expenditure (% of GDP)  Life Expectancy (Years)\n",
              "count                      14.000000                14.000000\n",
              "mean                        9.693760                74.971134\n",
              "std                         7.671473                 3.335777\n",
              "min                         2.257622                70.491000\n",
              "25%                         2.328399                72.071250\n",
              "50%                         9.439975                74.567634\n",
              "75%                        16.742078                78.539024\n",
              "max                        18.756220                78.787805"
            ],
            "text/html": [
              "\n",
              "  <div id=\"df-3359e4af-65e7-46c2-8e6b-fd5ae833e268\" class=\"colab-df-container\">\n",
              "    <div>\n",
              "<style scoped>\n",
              "    .dataframe tbody tr th:only-of-type {\n",
              "        vertical-align: middle;\n",
              "    }\n",
              "\n",
              "    .dataframe tbody tr th {\n",
              "        vertical-align: top;\n",
              "    }\n",
              "\n",
              "    .dataframe thead th {\n",
              "        text-align: right;\n",
              "    }\n",
              "</style>\n",
              "<table border=\"1\" class=\"dataframe\">\n",
              "  <thead>\n",
              "    <tr style=\"text-align: right;\">\n",
              "      <th></th>\n",
              "      <th>Health Expenditure (% of GDP)</th>\n",
              "      <th>Life Expectancy (Years)</th>\n",
              "    </tr>\n",
              "  </thead>\n",
              "  <tbody>\n",
              "    <tr>\n",
              "      <th>count</th>\n",
              "      <td>14.000000</td>\n",
              "      <td>14.000000</td>\n",
              "    </tr>\n",
              "    <tr>\n",
              "      <th>mean</th>\n",
              "      <td>9.693760</td>\n",
              "      <td>74.971134</td>\n",
              "    </tr>\n",
              "    <tr>\n",
              "      <th>std</th>\n",
              "      <td>7.671473</td>\n",
              "      <td>3.335777</td>\n",
              "    </tr>\n",
              "    <tr>\n",
              "      <th>min</th>\n",
              "      <td>2.257622</td>\n",
              "      <td>70.491000</td>\n",
              "    </tr>\n",
              "    <tr>\n",
              "      <th>25%</th>\n",
              "      <td>2.328399</td>\n",
              "      <td>72.071250</td>\n",
              "    </tr>\n",
              "    <tr>\n",
              "      <th>50%</th>\n",
              "      <td>9.439975</td>\n",
              "      <td>74.567634</td>\n",
              "    </tr>\n",
              "    <tr>\n",
              "      <th>75%</th>\n",
              "      <td>16.742078</td>\n",
              "      <td>78.539024</td>\n",
              "    </tr>\n",
              "    <tr>\n",
              "      <th>max</th>\n",
              "      <td>18.756220</td>\n",
              "      <td>78.787805</td>\n",
              "    </tr>\n",
              "  </tbody>\n",
              "</table>\n",
              "</div>\n",
              "    <div class=\"colab-df-buttons\">\n",
              "\n",
              "  <div class=\"colab-df-container\">\n",
              "    <button class=\"colab-df-convert\" onclick=\"convertToInteractive('df-3359e4af-65e7-46c2-8e6b-fd5ae833e268')\"\n",
              "            title=\"Convert this dataframe to an interactive table.\"\n",
              "            style=\"display:none;\">\n",
              "\n",
              "  <svg xmlns=\"http://www.w3.org/2000/svg\" height=\"24px\" viewBox=\"0 -960 960 960\">\n",
              "    <path d=\"M120-120v-720h720v720H120Zm60-500h600v-160H180v160Zm220 220h160v-160H400v160Zm0 220h160v-160H400v160ZM180-400h160v-160H180v160Zm440 0h160v-160H620v160ZM180-180h160v-160H180v160Zm440 0h160v-160H620v160Z\"/>\n",
              "  </svg>\n",
              "    </button>\n",
              "\n",
              "  <style>\n",
              "    .colab-df-container {\n",
              "      display:flex;\n",
              "      gap: 12px;\n",
              "    }\n",
              "\n",
              "    .colab-df-convert {\n",
              "      background-color: #E8F0FE;\n",
              "      border: none;\n",
              "      border-radius: 50%;\n",
              "      cursor: pointer;\n",
              "      display: none;\n",
              "      fill: #1967D2;\n",
              "      height: 32px;\n",
              "      padding: 0 0 0 0;\n",
              "      width: 32px;\n",
              "    }\n",
              "\n",
              "    .colab-df-convert:hover {\n",
              "      background-color: #E2EBFA;\n",
              "      box-shadow: 0px 1px 2px rgba(60, 64, 67, 0.3), 0px 1px 3px 1px rgba(60, 64, 67, 0.15);\n",
              "      fill: #174EA6;\n",
              "    }\n",
              "\n",
              "    .colab-df-buttons div {\n",
              "      margin-bottom: 4px;\n",
              "    }\n",
              "\n",
              "    [theme=dark] .colab-df-convert {\n",
              "      background-color: #3B4455;\n",
              "      fill: #D2E3FC;\n",
              "    }\n",
              "\n",
              "    [theme=dark] .colab-df-convert:hover {\n",
              "      background-color: #434B5C;\n",
              "      box-shadow: 0px 1px 3px 1px rgba(0, 0, 0, 0.15);\n",
              "      filter: drop-shadow(0px 1px 2px rgba(0, 0, 0, 0.3));\n",
              "      fill: #FFFFFF;\n",
              "    }\n",
              "  </style>\n",
              "\n",
              "    <script>\n",
              "      const buttonEl =\n",
              "        document.querySelector('#df-3359e4af-65e7-46c2-8e6b-fd5ae833e268 button.colab-df-convert');\n",
              "      buttonEl.style.display =\n",
              "        google.colab.kernel.accessAllowed ? 'block' : 'none';\n",
              "\n",
              "      async function convertToInteractive(key) {\n",
              "        const element = document.querySelector('#df-3359e4af-65e7-46c2-8e6b-fd5ae833e268');\n",
              "        const dataTable =\n",
              "          await google.colab.kernel.invokeFunction('convertToInteractive',\n",
              "                                                    [key], {});\n",
              "        if (!dataTable) return;\n",
              "\n",
              "        const docLinkHtml = 'Like what you see? Visit the ' +\n",
              "          '<a target=\"_blank\" href=https://colab.research.google.com/notebooks/data_table.ipynb>data table notebook</a>'\n",
              "          + ' to learn more about interactive tables.';\n",
              "        element.innerHTML = '';\n",
              "        dataTable['output_type'] = 'display_data';\n",
              "        await google.colab.output.renderOutput(dataTable, element);\n",
              "        const docLink = document.createElement('div');\n",
              "        docLink.innerHTML = docLinkHtml;\n",
              "        element.appendChild(docLink);\n",
              "      }\n",
              "    </script>\n",
              "  </div>\n",
              "\n",
              "\n",
              "<div id=\"df-68fa55ff-369f-4cd0-af5c-2aec05c9ec18\">\n",
              "  <button class=\"colab-df-quickchart\" onclick=\"quickchart('df-68fa55ff-369f-4cd0-af5c-2aec05c9ec18')\"\n",
              "            title=\"Suggest charts\"\n",
              "            style=\"display:none;\">\n",
              "\n",
              "<svg xmlns=\"http://www.w3.org/2000/svg\" height=\"24px\"viewBox=\"0 0 24 24\"\n",
              "     width=\"24px\">\n",
              "    <g>\n",
              "        <path d=\"M19 3H5c-1.1 0-2 .9-2 2v14c0 1.1.9 2 2 2h14c1.1 0 2-.9 2-2V5c0-1.1-.9-2-2-2zM9 17H7v-7h2v7zm4 0h-2V7h2v10zm4 0h-2v-4h2v4z\"/>\n",
              "    </g>\n",
              "</svg>\n",
              "  </button>\n",
              "\n",
              "<style>\n",
              "  .colab-df-quickchart {\n",
              "      --bg-color: #E8F0FE;\n",
              "      --fill-color: #1967D2;\n",
              "      --hover-bg-color: #E2EBFA;\n",
              "      --hover-fill-color: #174EA6;\n",
              "      --disabled-fill-color: #AAA;\n",
              "      --disabled-bg-color: #DDD;\n",
              "  }\n",
              "\n",
              "  [theme=dark] .colab-df-quickchart {\n",
              "      --bg-color: #3B4455;\n",
              "      --fill-color: #D2E3FC;\n",
              "      --hover-bg-color: #434B5C;\n",
              "      --hover-fill-color: #FFFFFF;\n",
              "      --disabled-bg-color: #3B4455;\n",
              "      --disabled-fill-color: #666;\n",
              "  }\n",
              "\n",
              "  .colab-df-quickchart {\n",
              "    background-color: var(--bg-color);\n",
              "    border: none;\n",
              "    border-radius: 50%;\n",
              "    cursor: pointer;\n",
              "    display: none;\n",
              "    fill: var(--fill-color);\n",
              "    height: 32px;\n",
              "    padding: 0;\n",
              "    width: 32px;\n",
              "  }\n",
              "\n",
              "  .colab-df-quickchart:hover {\n",
              "    background-color: var(--hover-bg-color);\n",
              "    box-shadow: 0 1px 2px rgba(60, 64, 67, 0.3), 0 1px 3px 1px rgba(60, 64, 67, 0.15);\n",
              "    fill: var(--button-hover-fill-color);\n",
              "  }\n",
              "\n",
              "  .colab-df-quickchart-complete:disabled,\n",
              "  .colab-df-quickchart-complete:disabled:hover {\n",
              "    background-color: var(--disabled-bg-color);\n",
              "    fill: var(--disabled-fill-color);\n",
              "    box-shadow: none;\n",
              "  }\n",
              "\n",
              "  .colab-df-spinner {\n",
              "    border: 2px solid var(--fill-color);\n",
              "    border-color: transparent;\n",
              "    border-bottom-color: var(--fill-color);\n",
              "    animation:\n",
              "      spin 1s steps(1) infinite;\n",
              "  }\n",
              "\n",
              "  @keyframes spin {\n",
              "    0% {\n",
              "      border-color: transparent;\n",
              "      border-bottom-color: var(--fill-color);\n",
              "      border-left-color: var(--fill-color);\n",
              "    }\n",
              "    20% {\n",
              "      border-color: transparent;\n",
              "      border-left-color: var(--fill-color);\n",
              "      border-top-color: var(--fill-color);\n",
              "    }\n",
              "    30% {\n",
              "      border-color: transparent;\n",
              "      border-left-color: var(--fill-color);\n",
              "      border-top-color: var(--fill-color);\n",
              "      border-right-color: var(--fill-color);\n",
              "    }\n",
              "    40% {\n",
              "      border-color: transparent;\n",
              "      border-right-color: var(--fill-color);\n",
              "      border-top-color: var(--fill-color);\n",
              "    }\n",
              "    60% {\n",
              "      border-color: transparent;\n",
              "      border-right-color: var(--fill-color);\n",
              "    }\n",
              "    80% {\n",
              "      border-color: transparent;\n",
              "      border-right-color: var(--fill-color);\n",
              "      border-bottom-color: var(--fill-color);\n",
              "    }\n",
              "    90% {\n",
              "      border-color: transparent;\n",
              "      border-bottom-color: var(--fill-color);\n",
              "    }\n",
              "  }\n",
              "</style>\n",
              "\n",
              "  <script>\n",
              "    async function quickchart(key) {\n",
              "      const quickchartButtonEl =\n",
              "        document.querySelector('#' + key + ' button');\n",
              "      quickchartButtonEl.disabled = true;  // To prevent multiple clicks.\n",
              "      quickchartButtonEl.classList.add('colab-df-spinner');\n",
              "      try {\n",
              "        const charts = await google.colab.kernel.invokeFunction(\n",
              "            'suggestCharts', [key], {});\n",
              "      } catch (error) {\n",
              "        console.error('Error during call to suggestCharts:', error);\n",
              "      }\n",
              "      quickchartButtonEl.classList.remove('colab-df-spinner');\n",
              "      quickchartButtonEl.classList.add('colab-df-quickchart-complete');\n",
              "    }\n",
              "    (() => {\n",
              "      let quickchartButtonEl =\n",
              "        document.querySelector('#df-68fa55ff-369f-4cd0-af5c-2aec05c9ec18 button');\n",
              "      quickchartButtonEl.style.display =\n",
              "        google.colab.kernel.accessAllowed ? 'block' : 'none';\n",
              "    })();\n",
              "  </script>\n",
              "</div>\n",
              "\n",
              "    </div>\n",
              "  </div>\n"
            ],
            "application/vnd.google.colaboratory.intrinsic+json": {
              "type": "dataframe",
              "summary": "{\n  \"name\": \"df_combined\",\n  \"rows\": 8,\n  \"fields\": [\n    {\n      \"column\": \"Health Expenditure (% of GDP)\",\n      \"properties\": {\n        \"dtype\": \"number\",\n        \"std\": 6.125536819312548,\n        \"min\": 2.25762248,\n        \"max\": 18.75621986,\n        \"num_unique_values\": 8,\n        \"samples\": [\n          9.693760105,\n          9.43997514,\n          14.0\n        ],\n        \"semantic_type\": \"\",\n        \"description\": \"\"\n      }\n    },\n    {\n      \"column\": \"Life Expectancy (Years)\",\n      \"properties\": {\n        \"dtype\": \"number\",\n        \"std\": 30.92326442746459,\n        \"min\": 3.335777010740811,\n        \"max\": 78.7878048780488,\n        \"num_unique_values\": 8,\n        \"samples\": [\n          74.97113414634147,\n          74.56763414634145,\n          14.0\n        ],\n        \"semantic_type\": \"\",\n        \"description\": \"\"\n      }\n    }\n  ]\n}"
            }
          },
          "metadata": {},
          "execution_count": 54
        }
      ]
    },
    {
      "cell_type": "code",
      "source": [
        "# Visualizations\n",
        "\n",
        "# Pearson r correlation coefficient\n",
        "from scipy.stats import pearsonr\n",
        "\n",
        "x = df_combined['Health Expenditure (% of GDP)']\n",
        "y = df_combined['Life Expectancy (Years)']\n",
        "\n",
        "r, p = pearsonr(x, y)\n",
        "print(f'Pearson r: {r}, p-value: {p}')\n"
      ],
      "metadata": {
        "colab": {
          "base_uri": "https://localhost:8080/"
        },
        "id": "WX9QpsWE6DrX",
        "outputId": "610cb589-0934-4677-a137-b9edf5447047"
      },
      "execution_count": 55,
      "outputs": [
        {
          "output_type": "stream",
          "name": "stdout",
          "text": [
            "Pearson r: 0.9516394951448418, p-value: 1.6634084891536534e-07\n"
          ]
        }
      ]
    },
    {
      "cell_type": "code",
      "source": [
        "# Scatter Plot\n",
        "\n",
        "sns.scatterplot(data=df_combined, x='Health Expenditure (% of GDP)', y='Life Expectancy (Years)', hue='Country')\n",
        "plt.title('Health Expenditure vs Life Expectancy')\n",
        "plt.xlabel('Health Expenditure (% of GDP)')\n",
        "plt.ylabel('Life Expectancy (Years)')\n",
        "plt.show()"
      ],
      "metadata": {
        "colab": {
          "base_uri": "https://localhost:8080/",
          "height": 472
        },
        "id": "-zH9nhypJfZT",
        "outputId": "fbfec0ed-2c60-49bf-eaf2-eb9d9dde334b"
      },
      "execution_count": 56,
      "outputs": [
        {
          "output_type": "display_data",
          "data": {
            "text/plain": [
              "<Figure size 640x480 with 1 Axes>"
            ],
            "image/png": "[encoded data removed]"
          },
          "metadata": {}
        }
      ]
    },
    {
      "cell_type": "markdown",
      "source": [
        "The scatter plot compares health expenditure and life expectancy. The plot shows that the US spends more in health expenditure and they have a higher life expectancy."
      ],
      "metadata": {
        "id": "kAFjHhLMAZ3_"
      }
    },
    {
      "cell_type": "code",
      "source": [
        "# T-test\n",
        "\n",
        "from scipy.stats import ttest_ind\n",
        "\n",
        "us_life = df_combined[df_combined['Country'] == 'United States']['Life Expectancy (Years)']\n",
        "ban_life = df_combined[df_combined['Country'] == 'Bangladesh']['Life Expectancy (Years)']\n",
        "\n",
        "t_stat, p_value = ttest_ind(us_life, ban_life)\n",
        "print(f't-test= {t_stat}, p-value= {p_value}')"
      ],
      "metadata": {
        "colab": {
          "base_uri": "https://localhost:8080/"
        },
        "id": "e3O0gXzsHvU2",
        "outputId": "90c88b9e-db82-49c2-d89b-77be1f4d0183"
      },
      "execution_count": 57,
      "outputs": [
        {
          "output_type": "stream",
          "name": "stdout",
          "text": [
            "t-test= 12.691101362930148, p-value= 2.5850968207869863e-08\n"
          ]
        }
      ]
    },
    {
      "cell_type": "code",
      "source": [
        "# Bar chart\n",
        "\n",
        "sns.barplot(data=df_combined, x='Country', y='Life Expectancy (Years)', estimator='mean')\n",
        "plt.title('Average Life Expectancy by Country')\n",
        "plt.xlabel('Country')\n",
        "plt.ylabel('Life Expectancy (Years)')\n",
        "plt.show()"
      ],
      "metadata": {
        "colab": {
          "base_uri": "https://localhost:8080/",
          "height": 472
        },
        "id": "AjXenE13KQ75",
        "outputId": "d2fdc56f-8701-4f84-89c5-b97f302193d5"
      },
      "execution_count": 58,
      "outputs": [
        {
          "output_type": "display_data",
          "data": {
            "text/plain": [
              "<Figure size 640x480 with 1 Axes>"
            ],
            "image/png": "[encoded data removed]"
          },
          "metadata": {}
        }
      ]
    },
    {
      "cell_type": "code",
      "source": [
        "# ANOVA\n",
        "\n",
        "from scipy.stats import f_oneway\n",
        "\n",
        "us_exp = df_combined[df_combined['Country'] == 'United States']['Health Expenditure (% of GDP)']\n",
        "ban_exp = df_combined[df_combined['Country'] == 'Bangladesh']['Health Expenditure (% of GDP)']\n",
        "\n",
        "f_stat, p_value = f_oneway(us_exp, ban_exp)\n",
        "print(f'ANOVA f= {f_stat}, p-value= {p_value}')"
      ],
      "metadata": {
        "colab": {
          "base_uri": "https://localhost:8080/"
        },
        "id": "aRjNV37W6Dn_",
        "outputId": "639ba272-1ea9-4ba5-8e28-7e00d4a8b712"
      },
      "execution_count": 59,
      "outputs": [
        {
          "output_type": "stream",
          "name": "stdout",
          "text": [
            "ANOVA f= 2402.192129292025, p-value= 3.4095394515856064e-15\n"
          ]
        }
      ]
    },
    {
      "cell_type": "code",
      "source": [
        "sns.lineplot(data=df_combined, x='Year', y='Health Expenditure (% of GDP)', hue='Country')\n",
        "plt.title('Health Expenditure Over Time')\n",
        "plt.xlabel('Year')\n",
        "plt.ylabel('Health Expenditure (% of GDP)')\n",
        "plt.show()"
      ],
      "metadata": {
        "colab": {
          "base_uri": "https://localhost:8080/",
          "height": 472
        },
        "id": "gXFmOONlMVZB",
        "outputId": "753258ac-3df1-40be-a545-a4362e4d1a65"
      },
      "execution_count": 60,
      "outputs": [
        {
          "output_type": "display_data",
          "data": {
            "text/plain": [
              "<Figure size 640x480 with 1 Axes>"
            ],
            "image/png": "[encoded data removed]"
          },
          "metadata": {}
        }
      ]
    }
  ]
}